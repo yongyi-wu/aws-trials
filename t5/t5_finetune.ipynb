{
 "cells": [
  {
   "cell_type": "code",
   "execution_count": 1,
   "metadata": {},
   "outputs": [],
   "source": [
    "import pandas as pd\n",
    "import matplotlib.pyplot as plt\n",
    "import torch\n",
    "from torch.utils.data import Dataset, DataLoader\n",
    "from transformers import (\n",
    "    AdamW, \n",
    "    get_linear_schedule_with_warmup, \n",
    "    T5ForConditionalGeneration, \n",
    "    T5Tokenizer\n",
    ")"
   ]
  },
  {
   "cell_type": "code",
   "execution_count": 2,
   "metadata": {},
   "outputs": [
    {
     "data": {
      "text/html": [
       "<div>\n",
       "<style scoped>\n",
       "    .dataframe tbody tr th:only-of-type {\n",
       "        vertical-align: middle;\n",
       "    }\n",
       "\n",
       "    .dataframe tbody tr th {\n",
       "        vertical-align: top;\n",
       "    }\n",
       "\n",
       "    .dataframe thead th {\n",
       "        text-align: right;\n",
       "    }\n",
       "</style>\n",
       "<table border=\"1\" class=\"dataframe\">\n",
       "  <thead>\n",
       "    <tr style=\"text-align: right;\">\n",
       "      <th></th>\n",
       "      <th>text</th>\n",
       "      <th>emotion</th>\n",
       "    </tr>\n",
       "  </thead>\n",
       "  <tbody>\n",
       "    <tr>\n",
       "      <th>0</th>\n",
       "      <td>i didnt feel humiliated</td>\n",
       "      <td>sadness</td>\n",
       "    </tr>\n",
       "    <tr>\n",
       "      <th>1</th>\n",
       "      <td>i can go from feeling so hopeless to so damned...</td>\n",
       "      <td>sadness</td>\n",
       "    </tr>\n",
       "    <tr>\n",
       "      <th>2</th>\n",
       "      <td>im grabbing a minute to post i feel greedy wrong</td>\n",
       "      <td>anger</td>\n",
       "    </tr>\n",
       "    <tr>\n",
       "      <th>3</th>\n",
       "      <td>i am ever feeling nostalgic about the fireplac...</td>\n",
       "      <td>love</td>\n",
       "    </tr>\n",
       "    <tr>\n",
       "      <th>4</th>\n",
       "      <td>i am feeling grouchy</td>\n",
       "      <td>anger</td>\n",
       "    </tr>\n",
       "  </tbody>\n",
       "</table>\n",
       "</div>"
      ],
      "text/plain": [
       "                                                text  emotion\n",
       "0                            i didnt feel humiliated  sadness\n",
       "1  i can go from feeling so hopeless to so damned...  sadness\n",
       "2   im grabbing a minute to post i feel greedy wrong    anger\n",
       "3  i am ever feeling nostalgic about the fireplac...     love\n",
       "4                               i am feeling grouchy    anger"
      ]
     },
     "execution_count": 2,
     "metadata": {},
     "output_type": "execute_result"
    }
   ],
   "source": [
    "# reference: https://github.com/patil-suraj/exploring-T5/blob/master/t5_fine_tuning.ipynb\n",
    "pd.read_csv(\"emodata/train.txt\", sep=\";\", header=None, names=[\"text\", \"emotion\"]).head()"
   ]
  },
  {
   "cell_type": "code",
   "execution_count": 3,
   "metadata": {},
   "outputs": [],
   "source": [
    "class EmoData(Dataset): \n",
    "    \n",
    "    def __init__(self, tokenizer, data_path, max_len): \n",
    "        super().__init__()\n",
    "        self.tokenizer = tokenizer\n",
    "        self.df = pd.read_csv(data_path, sep=\";\", header=None, names=[\"text\", \"emotion\"])\n",
    "        self.max_len = max_len\n",
    "        self.inputs, self.labels = self._build()\n",
    "        \n",
    "    def _build(self): \n",
    "        inputs = []\n",
    "        labels = []\n",
    "        for (_, (text, label)) in self.df.iterrows(): \n",
    "            inputs.append(\n",
    "                self.tokenizer.batch_encode_plus(\n",
    "                    [text], max_length=self.max_len, truncation=True, padding=\"max_length\", return_tensors=\"pt\"\n",
    "                )\n",
    "            )\n",
    "            labels.append(\n",
    "                self.tokenizer.batch_encode_plus(\n",
    "                    [label], max_length=2, truncation=True, padding=\"max_length\", return_tensors=\"pt\"\n",
    "                )\n",
    "            )\n",
    "        return inputs, labels\n",
    "        \n",
    "    def __len__(self): \n",
    "        return len(self.inputs)\n",
    "    \n",
    "    def __getitem__(self, idx): \n",
    "        input_ids = self.inputs[idx][\"input_ids\"].squeeze()\n",
    "        input_mask = self.inputs[idx][\"attention_mask\"].squeeze()\n",
    "        label_ids = self.labels[idx][\"input_ids\"].squeeze()\n",
    "        label_mask = self.labels[idx][\"attention_mask\"].squeeze()\n",
    "        return {\n",
    "            \"input_ids\": input_ids, \n",
    "            \"attention_mask\": input_mask, \n",
    "            \"labels\": label_ids, \n",
    "            \"decoder_attention_mask\": label_mask\n",
    "        }"
   ]
  },
  {
   "cell_type": "code",
   "execution_count": 4,
   "metadata": {},
   "outputs": [],
   "source": [
    "def to_cuda(batch): \n",
    "    for (key, value) in batch.items(): \n",
    "        batch[key] = value.to(\"cuda\")\n",
    "    return batch"
   ]
  },
  {
   "cell_type": "code",
   "execution_count": null,
   "metadata": {},
   "outputs": [],
   "source": []
  },
  {
   "cell_type": "code",
   "execution_count": 5,
   "metadata": {},
   "outputs": [],
   "source": [
    "BATCH_SIZE = 128\n",
    "EPOCHS = 2\n",
    "MAX_LEN = 32"
   ]
  },
  {
   "cell_type": "code",
   "execution_count": 6,
   "metadata": {},
   "outputs": [],
   "source": [
    "tokenizer = T5Tokenizer.from_pretrained(\"t5-base\")\n",
    "\n",
    "train_loader = DataLoader(\n",
    "    dataset=EmoData(tokenizer, \"emodata/train.txt\", MAX_LEN), \n",
    "    batch_size=BATCH_SIZE, \n",
    "    drop_last=True, \n",
    "    shuffle=True, \n",
    "    num_workers=4\n",
    ")\n",
    "\n",
    "val_loader = DataLoader(\n",
    "    dataset=EmoData(tokenizer, \"emodata/val.txt\", MAX_LEN), \n",
    "    batch_size=BATCH_SIZE, \n",
    "    num_workers=4\n",
    ")"
   ]
  },
  {
   "cell_type": "code",
   "execution_count": 7,
   "metadata": {},
   "outputs": [
    {
     "name": "stderr",
     "output_type": "stream",
     "text": [
      "Some weights of the model checkpoint at t5-base were not used when initializing T5ForConditionalGeneration: ['decoder.block.0.layer.1.EncDecAttention.relative_attention_bias.weight']\n",
      "- This IS expected if you are initializing T5ForConditionalGeneration from the checkpoint of a model trained on another task or with another architecture (e.g. initializing a BertForSequenceClassification model from a BertForPreTraining model).\n",
      "- This IS NOT expected if you are initializing T5ForConditionalGeneration from the checkpoint of a model that you expect to be exactly identical (initializing a BertForSequenceClassification model from a BertForSequenceClassification model).\n"
     ]
    }
   ],
   "source": [
    "model = T5ForConditionalGeneration.from_pretrained(\"t5-base\").to(\"cuda\")\n",
    "model = torch.nn.DataParallel(model, device_ids=[0, 1, 2, 3])\n",
    "optimizer = AdamW(model.parameters(), lr=3e-4, eps=1e-8)\n",
    "scheduler = get_linear_schedule_with_warmup(optimizer, num_warmup_steps=0, num_training_steps=len(train_loader))"
   ]
  },
  {
   "cell_type": "code",
   "execution_count": 8,
   "metadata": {},
   "outputs": [
    {
     "name": "stderr",
     "output_type": "stream",
     "text": [
      "/home/ubuntu/env/nlp/lib/python3.6/site-packages/torch/nn/parallel/_functions.py:64: UserWarning: Was asked to gather along dimension 0, but all input tensors were scalars; will instead unsqueeze and return a vector.\n",
      "  warnings.warn('Was asked to gather along dimension 0, but all '\n"
     ]
    },
    {
     "name": "stdout",
     "output_type": "stream",
     "text": [
      "Epoch: 0, Train Step: 10, Loss: 1.2780022621154785\n",
      "Epoch: 0, Train Step: 20, Loss: 0.7013925313949585\n",
      "Epoch: 0, Train Step: 30, Loss: 0.7068116664886475\n",
      "Epoch: 0, Train Step: 40, Loss: 0.6651327610015869\n",
      "Epoch: 0, Train Step: 50, Loss: 0.5460911989212036\n",
      "Epoch: 0, Train Step: 60, Loss: 0.5076332688331604\n",
      "Epoch: 0, Train Step: 70, Loss: 0.3881429433822632\n",
      "Epoch: 0, Train Step: 80, Loss: 0.38563859462738037\n",
      "Epoch: 0, Train Step: 90, Loss: 0.34475940465927124\n",
      "Epoch: 0, Train Step: 100, Loss: 0.45172032713890076\n",
      "Epoch: 0, Train Step: 110, Loss: 0.5383156538009644\n",
      "Epoch: 0, Train Step: 120, Loss: 0.3593895733356476\n",
      "Epoch: 1, Train Step: 130, Loss: 0.4107598066329956\n",
      "Epoch: 1, Train Step: 140, Loss: 0.36219507455825806\n",
      "Epoch: 1, Train Step: 150, Loss: 0.41177570819854736\n",
      "Epoch: 1, Train Step: 160, Loss: 0.4016815423965454\n",
      "Epoch: 1, Train Step: 170, Loss: 0.44550901651382446\n",
      "Epoch: 1, Train Step: 180, Loss: 0.400779664516449\n",
      "Epoch: 1, Train Step: 190, Loss: 0.2989102602005005\n",
      "Epoch: 1, Train Step: 200, Loss: 0.41886264085769653\n",
      "Epoch: 1, Train Step: 210, Loss: 0.4172794222831726\n",
      "Epoch: 1, Train Step: 220, Loss: 0.3913123309612274\n",
      "Epoch: 1, Train Step: 230, Loss: 0.34231647849082947\n",
      "Epoch: 1, Train Step: 240, Loss: 0.38636907935142517\n",
      "Epoch: 1, Train Step: 250, Loss: 0.3791060447692871\n"
     ]
    }
   ],
   "source": [
    "train_loss = []\n",
    "\n",
    "for epoch in range(EPOCHS): \n",
    "    # trian\n",
    "    model.train()\n",
    "    for batch in train_loader: \n",
    "        batch = to_cuda(batch)\n",
    "        outputs = model(**batch)\n",
    "        train_loss.append(\n",
    "            torch.mean(outputs.loss.detach()).item()\n",
    "        )\n",
    "        optimizer.zero_grad()\n",
    "        (torch.min(outputs.loss)).backward()\n",
    "        optimizer.step()\n",
    "        scheduler.step()\n",
    "        if len(train_loss) > 0 and len(train_loss) % 10 == 0: \n",
    "            print(\"Epoch: {}, Train Step: {}, Loss: {}\".format(epoch, len(train_loss), train_loss[-1]))\n",
    "    # val\n",
    "    model.eval()\n",
    "    for batch in val_loader: \n",
    "        batch = to_cuda(batch)\n",
    "        outputs = model(**batch)"
   ]
  },
  {
   "cell_type": "code",
   "execution_count": 9,
   "metadata": {},
   "outputs": [
    {
     "data": {
      "text/plain": [
       "[<matplotlib.lines.Line2D at 0x7fa5b5bd8e10>]"
      ]
     },
     "execution_count": 9,
     "metadata": {},
     "output_type": "execute_result"
    },
    {
     "data": {
      "image/png": "[encoded data removed]",
      "text/plain": [
       "<Figure size 432x288 with 1 Axes>"
      ]
     },
     "metadata": {
      "needs_background": "light"
     },
     "output_type": "display_data"
    }
   ],
   "source": [
    "plt.plot(train_loss)"
   ]
  },
  {
   "cell_type": "code",
   "execution_count": null,
   "metadata": {},
   "outputs": [],
   "source": []
  },
  {
   "cell_type": "code",
   "execution_count": 10,
   "metadata": {},
   "outputs": [],
   "source": [
    "# test\n",
    "test_loader = DataLoader(\n",
    "    dataset=EmoData(tokenizer, \"emodata/test.txt\", MAX_LEN), \n",
    "    batch_size=32, \n",
    "    shuffle=True\n",
    ")\n",
    "batch = next(iter(test_loader))\n",
    "batch = to_cuda(batch)"
   ]
  },
  {
   "cell_type": "code",
   "execution_count": 11,
   "metadata": {},
   "outputs": [],
   "source": [
    "model.eval()\n",
    "outputs = model.module.generate(input_ids=batch[\"input_ids\"], attention_mask=batch[\"attention_mask\"], max_length=2)"
   ]
  },
  {
   "cell_type": "code",
   "execution_count": 12,
   "metadata": {},
   "outputs": [
    {
     "name": "stdout",
     "output_type": "stream",
     "text": [
      "text: i can t help but feel really nostalgic of the disney levels</s> <pad> <pad> <pad> <pad> <pad> <pad> <pad> <pad> <pad> <pad> <pad> <pad> <pad> <pad> <pad> <pad>\n",
      "Ground Truth: love</s>\n",
      "Output: <pad> love\n",
      "=====================================================================\n",
      "\n",
      "text: i feel a little glamorous i wet the brush</s> <pad> <pad> <pad> <pad> <pad> <pad> <pad> <pad> <pad> <pad> <pad> <pad> <pad> <pad> <pad> <pad> <pad> <pad>\n",
      "Ground Truth: joy</s>\n",
      "Output: <pad> joy\n",
      "=====================================================================\n",
      "\n",
      "text: i am feeling sinfully horny this sunday morning</s> <pad> <pad> <pad> <pad> <pad> <pad> <pad> <pad> <pad> <pad> <pad> <pad> <pad> <pad> <pad> <pad> <pad> <pad>\n",
      "Ground Truth: love</s>\n",
      "Output: <pad> anger\n",
      "=====================================================================\n",
      "\n",
      "text: i feel truly heartbroken that hyun joongs fans can be so hateful</s> <pad> <pad> <pad> <pad> <pad> <pad> <pad> <pad> <pad>\n",
      "Ground Truth: sadness</s>\n",
      "Output: <pad> sadness\n",
      "=====================================================================\n",
      "\n",
      "text: i should stop reading sids blogs but it is part of my blogging community and i feel that in supporting each other we get better at handling</s>\n",
      "Ground Truth: love</s>\n",
      "Output: <pad> joy\n",
      "=====================================================================\n",
      "\n",
      "text: i feel stupid enough</s> <pad> <pad> <pad> <pad> <pad> <pad> <pad> <pad> <pad> <pad> <pad> <pad> <pad> <pad> <pad> <pad> <pad> <pad> <pad> <pad> <pad> <pad> <pad> <pad> <pad> <pad>\n",
      "Ground Truth: sadness</s>\n",
      "Output: <pad> sadness\n",
      "=====================================================================\n",
      "\n",
      "text: i never feel shy to call or send a billion text messages to and i wont be bugging her</s> <pad> <pad> <pad> <pad> <pad> <pad> <pad>\n",
      "Ground Truth: fear</s>\n",
      "Output: <pad> fear\n",
      "=====================================================================\n",
      "\n",
      "text: i am feeling a little more relaxed i am certainly not feeling refreshed thanks to drunk dudes who decided letting off fireworks every half an hour</s>\n",
      "Ground Truth: joy</s>\n",
      "Output: <pad> joy\n",
      "=====================================================================\n",
      "\n",
      "text: i want you to feel just as humiliated as you made me feel in school</s> <pad> <pad> <pad> <pad> <pad> <pad> <pad> <pad> <pad> <pad> <pad> <pad> <pad>\n",
      "Ground Truth: sadness</s>\n",
      "Output: <pad> sadness\n",
      "=====================================================================\n",
      "\n",
      "text: i feel that third situation pretty much sums up my feelings toward this title</s> <pad> <pad> <pad> <pad> <pad> <pad> <pad> <pad> <pad> <pad> <pad> <pad> <pad> <pad> <pad>\n",
      "Ground Truth: joy</s>\n",
      "Output: <pad> joy\n",
      "=====================================================================\n",
      "\n",
      "text: i have been feeling so melancholy and alone</s> <pad> <pad> <pad> <pad> <pad> <pad> <pad> <pad> <pad> <pad> <pad> <pad> <pad> <pad> <pad> <pad> <pad> <pad> <pad>\n",
      "Ground Truth: sadness</s>\n",
      "Output: <pad> sadness\n",
      "=====================================================================\n",
      "\n",
      "text: i can t help feeling lucky little do i know</s> <pad> <pad> <pad> <pad> <pad> <pad> <pad> <pad> <pad> <pad> <pad> <pad> <pad> <pad> <pad> <pad> <pad> <pad>\n",
      "Ground Truth: joy</s>\n",
      "Output: <pad> joy\n",
      "=====================================================================\n",
      "\n",
      "text: i feel like they are more boring to paint than a bunch of fruit</s> <pad> <pad> <pad> <pad> <pad> <pad> <pad> <pad> <pad> <pad> <pad> <pad> <pad> <pad> <pad>\n",
      "Ground Truth: sadness</s>\n",
      "Output: <pad> sadness\n",
      "=====================================================================\n",
      "\n",
      "text: told by some people the class leader only choose his friends not true</s> <pad> <pad> <pad> <pad> <pad> <pad> <pad> <pad> <pad> <pad> <pad> <pad> <pad> <pad> <pad> <pad> <pad> <pad>\n",
      "Ground Truth: anger</s>\n",
      "Output: <pad> joy\n",
      "=====================================================================\n",
      "\n",
      "text: i had one of my low carb meal bars for breakfast and was feeling smug when i spotted the left over pies muffins and</s>\n",
      "Ground Truth: joy</s>\n",
      "Output: <pad> sadness\n",
      "=====================================================================\n",
      "\n",
      "text: i wonder how it feels to be loved by someone you love</s> <pad> <pad> <pad> <pad> <pad> <pad> <pad> <pad> <pad> <pad> <pad> <pad> <pad> <pad> <pad> <pad> <pad> <pad>\n",
      "Ground Truth: love</s>\n",
      "Output: <pad> love\n",
      "=====================================================================\n",
      "\n",
      "text: i never feel depressed because my cancer and i have learnt to live and sleep with each other</s> <pad> <pad> <pad> <pad> <pad> <pad> <pad> <pad> <pad>\n",
      "Ground Truth: sadness</s>\n",
      "Output: <pad> sadness\n",
      "=====================================================================\n",
      "\n",
      "text: i am feeling a little apprehensive about the whole thing</s> <pad> <pad> <pad> <pad> <pad> <pad> <pad> <pad> <pad> <pad> <pad> <pad> <pad> <pad> <pad>\n",
      "Ground Truth: fear</s>\n",
      "Output: <pad> fear\n",
      "=====================================================================\n",
      "\n",
      "text: im feeling just a little proud</s> <pad> <pad> <pad> <pad> <pad> <pad> <pad> <pad> <pad> <pad> <pad> <pad> <pad> <pad> <pad> <pad> <pad> <pad> <pad> <pad> <pad> <pad> <pad> <pad>\n",
      "Ground Truth: joy</s>\n",
      "Output: <pad> joy\n",
      "=====================================================================\n",
      "\n",
      "text: i did not know this i could not look out upon the sea and sky without feeling mildly discontent</s> <pad> <pad> <pad> <pad> <pad> <pad> <pad> <pad>\n",
      "Ground Truth: sadness</s>\n",
      "Output: <pad> anger\n",
      "=====================================================================\n",
      "\n",
      "text: when i heard the last regulation of the socialist govrenment concerning pensions</s> <pad> <pad> <pad> <pad> <pad> <pad> <pad> <pad> <pad> <pad> <pad> <pad> <pad> <pad>\n",
      "Ground Truth: sadness</s>\n",
      "Output: <pad> joy\n",
      "=====================================================================\n",
      "\n",
      "text: i feel like uninstalling skype deactivateing all of my facebook amp hatena accounts since im becoming a hateful person amp</s>\n",
      "Ground Truth: anger</s>\n",
      "Output: <pad> anger\n",
      "=====================================================================\n",
      "\n",
      "text: i pay attention it deepens into a feeling of being invaded and helpless</s> <pad> <pad> <pad> <pad> <pad> <pad> <pad> <pad> <pad> <pad> <pad> <pad>\n",
      "Ground Truth: fear</s>\n",
      "Output: <pad> fear\n",
      "=====================================================================\n",
      "\n",
      "text: im feeling brave ill snatch him to on my lap and after a few seconds of struggling he completely relaxes and submits</s>\n",
      "Ground Truth: joy</s>\n",
      "Output: <pad> joy\n",
      "=====================================================================\n",
      "\n",
      "text: i believe that feeling accepted in a non judgemental way can be healing</s> <pad> <pad> <pad> <pad> <pad> <pad> <pad> <pad> <pad> <pad> <pad> <pad> <pad> <pad> <pad>\n",
      "Ground Truth: joy</s>\n",
      "Output: <pad> joy\n",
      "=====================================================================\n",
      "\n",
      "text: i wasnt very interested in it but it evoked the feeling of an earth grittily doomed by aliens quite well</s> <pad>\n",
      "Ground Truth: sadness</s>\n",
      "Output: <pad> sadness\n",
      "=====================================================================\n",
      "\n",
      "text: i didn t feel intimidated or overwhelmed with information though</s> <pad> <pad> <pad> <pad> <pad> <pad> <pad> <pad> <pad> <pad> <pad> <pad> <pad> <pad> <pad> <pad> <pad> <pad>\n",
      "Ground Truth: fear</s>\n",
      "Output: <pad> fear\n",
      "=====================================================================\n",
      "\n",
      "text: i don t feel well enough to cook</s> <pad> <pad> <pad> <pad> <pad> <pad> <pad> <pad> <pad> <pad> <pad> <pad> <pad> <pad> <pad> <pad> <pad> <pad> <pad> <pad> <pad>\n",
      "Ground Truth: joy</s>\n",
      "Output: <pad> joy\n",
      "=====================================================================\n",
      "\n",
      "text: i realized i was feeling really irritated while i was saying that</s> <pad> <pad> <pad> <pad> <pad> <pad> <pad> <pad> <pad> <pad> <pad> <pad> <pad>\n",
      "Ground Truth: anger</s>\n",
      "Output: <pad> anger\n",
      "=====================================================================\n",
      "\n",
      "text: i am feeling very touch deprived with all that has been happening</s> <pad> <pad> <pad> <pad> <pad> <pad> <pad> <pad> <pad> <pad> <pad> <pad> <pad> <pad> <pad> <pad> <pad>\n",
      "Ground Truth: sadness</s>\n",
      "Output: <pad> sadness\n",
      "=====================================================================\n",
      "\n",
      "text: i always end up feeling unwelcome and sad</s> <pad> <pad> <pad> <pad> <pad> <pad> <pad> <pad> <pad> <pad> <pad> <pad> <pad> <pad> <pad> <pad> <pad> <pad> <pad>\n",
      "Ground Truth: sadness</s>\n",
      "Output: <pad> sadness\n",
      "=====================================================================\n",
      "\n",
      "text: i already feel him kicking my ribs making it harder to breath sometimes and taking over precious space where my stomach once was</s> <pad> <pad> <pad> <pad>\n",
      "Ground Truth: joy</s>\n",
      "Output: <pad> joy\n",
      "=====================================================================\n",
      "\n"
     ]
    }
   ],
   "source": [
    "for i in range(len(batch[\"input_ids\"])): \n",
    "    print(\"text: {}\".format(tokenizer.decode(batch[\"input_ids\"][i, :])))\n",
    "    print(\"Ground Truth: {}\".format(tokenizer.decode(batch[\"labels\"][i, :])))\n",
    "    print(\"Output: {}\".format(tokenizer.decode(outputs[i])))\n",
    "    print(\"=====================================================================\\n\")"
   ]
  },
  {
   "cell_type": "code",
   "execution_count": null,
   "metadata": {},
   "outputs": [],
   "source": []
  }
 ],
 "metadata": {
  "kernelspec": {
   "display_name": "Python 3",
   "language": "python",
   "name": "python3"
  },
  "language_info": {
   "codemirror_mode": {
    "name": "ipython",
    "version": 3
   },
   "file_extension": ".py",
   "mimetype": "text/x-python",
   "name": "python",
   "nbconvert_exporter": "python",
   "pygments_lexer": "ipython3",
   "version": "3.6.9"
  }
 },
 "nbformat": 4,
 "nbformat_minor": 4
}
