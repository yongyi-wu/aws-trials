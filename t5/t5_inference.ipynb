{
 "cells": [
  {
   "cell_type": "code",
   "execution_count": 1,
   "metadata": {},
   "outputs": [],
   "source": [
    "import warnings\n",
    "warnings.filterwarnings('ignore')\n",
    "import random\n",
    "\n",
    "import numpy as _np\n",
    "import tensorflow as tf\n",
    "from mxnet import np, npx\n",
    "from gluonnlp.models import get_backbone\n",
    "from gluonnlp.models.t5 import T5NMTInference\n",
    "from gluonnlp.sequence_sampler import BeamSearchSampler\n",
    "\n",
    "npx.set_np()"
   ]
  },
  {
   "cell_type": "code",
   "execution_count": 2,
   "metadata": {},
   "outputs": [],
   "source": [
    "# set\n",
    "random.seed(0)\n",
    "_np.random.seed(0)\n",
    "np.random.seed(0)\n",
    "npx.random.seed(0)\n",
    "\n",
    "# def noise_span_to_unique_sentinel(tokens, noise_mask, vocab_size):\n",
    "#     prev_token_is_noise = tf.pad(noise_mask[:-1], [[1, 0]])\n",
    "#     first_noise_tokens = tf.logical_and(\n",
    "#         noise_mask, tf.logical_not(prev_token_is_noise))\n",
    "#     subsequent_noise_tokens = tf.logical_and(noise_mask, prev_token_is_noise)\n",
    "#     sentinel = vocab_size - tf.cumsum(tf.cast(first_noise_tokens, tokens.dtype))\n",
    "#     tokens = tf.where(first_noise_tokens, sentinel, tokens)\n",
    "#     return tf.boolean_mask(tokens, tf.logical_not(subsequent_noise_tokens))"
   ]
  },
  {
   "cell_type": "code",
   "execution_count": 3,
   "metadata": {},
   "outputs": [],
   "source": [
    "T5Model, cfg, tokenizer, local_params_path, _ = get_backbone('google_t5_small')"
   ]
  },
  {
   "cell_type": "code",
   "execution_count": 4,
   "metadata": {},
   "outputs": [],
   "source": [
    "backbone = T5Model.from_cfg(cfg)\n",
    "backbone.load_parameters(local_params_path)\n",
    "t5_nmt = T5NMTInference(backbone)\n",
    "t5_searcher = BeamSearchSampler(4, t5_nmt, eos_id=1, vocab_size=32128)"
   ]
  },
  {
   "cell_type": "code",
   "execution_count": 5,
   "metadata": {},
   "outputs": [
    {
     "name": "stdout",
     "output_type": "stream",
     "text": [
      "[1562, 25, 21, 14256, 140, 12, 39, 1088, 336, 471, 3, 5]\n",
      "['▁Thank', '▁you', '▁for', '▁inviting', '▁me', '▁to', '▁your', '▁party', '▁last', '▁week', '▁', '.']\n"
     ]
    }
   ],
   "source": [
    "text = 'Thank you for inviting me to your party last week .'\n",
    "tokens = tokenizer.encode(text, int)\n",
    "print(tokens)\n",
    "print(tokenizer.encode(text, str))"
   ]
  },
  {
   "cell_type": "code",
   "execution_count": 6,
   "metadata": {},
   "outputs": [],
   "source": [
    "# tokens = tf.constant(tokens)\n",
    "# masks = tf.constant(masks)\n",
    "# assert(tokens.shape == masks.shape)\n",
    "# tokens = noise_span_to_unique_sentinel(tokens, masks, 32100)\n",
    "\n",
    "src_tokens = np.array([[1562, 25, 32099, 12, 32098, 471, 3, 5]])\n",
    "src_valid_length = np.array([src_tokens.shape[1]])\n",
    "tgt_token = np.array([32099])"
   ]
  },
  {
   "cell_type": "code",
   "execution_count": 7,
   "metadata": {},
   "outputs": [],
   "source": [
    "states = t5_nmt.init_states(src_tokens, src_valid_length)"
   ]
  },
  {
   "cell_type": "code",
   "execution_count": 8,
   "metadata": {},
   "outputs": [],
   "source": [
    "res = t5_searcher(tgt_token, states, src_valid_length)"
   ]
  },
  {
   "cell_type": "code",
   "execution_count": 9,
   "metadata": {},
   "outputs": [
    {
     "data": {
      "text/plain": [
       "(array([[[32099, 32098,     5,     3,     5,     3,     5,     3,     5,\n",
       "              3,     5,     3,     5,     3,     5,     3,     5,     3,\n",
       "              5,     3,     5,     3,     5,     3,     5,     3,     5,\n",
       "              3,     5,     3,     5,     3,     5,     3,     5,     3,\n",
       "              5,     3,     5,     3,     5,     3,     5,     3,     5,\n",
       "              3,     5,     3,     5,     3,     5,     3,     5,     3,\n",
       "              5,     3,     5,     3,     5,     3,     5,     3,     5,\n",
       "              3,     5,     3,     5,     3,     5,     3,     5,     3,\n",
       "              5,     3,     5,     3,     5,     3,     5,     3,     5,\n",
       "              3,     5,     3,     5,     3,     5,     3,     5,     3,\n",
       "              5,     3,     5,     3,     5,     3,     5,     3,     5,\n",
       "              3,     5,     3,     5,     3,     5,     3,     5,     3,\n",
       "              5,     3,     5,     3,     5,     3,  1562,  1562,  1562,\n",
       "           1562,  1562,  1562,  1562,  1562,  1562,  1562,  1562,  1562,\n",
       "           1562,  1562,  1562,  1562,  1562,  1562,  1562,  1562,  1562,\n",
       "           1562,  1562,  1562,  1562,  1562,  1562,  1562,  1562,  1562,\n",
       "           1562,  1562,  1562,     3,     5,     3,     5,     3,     5,\n",
       "              3,     5,     3,     5,     3,     5,     3,     5,     3,\n",
       "              5,     3,     5,     3,     5,     3,     5,     3,     5,\n",
       "              3,     5,     3,     5,     3,     5,     3,     5,     3,\n",
       "              5,     3,     5,     3,     5,     3,     5,     3,     5,\n",
       "              3,     5,     3,     5,     3,     5,     3,     5,     3,\n",
       "              5,     3,     5,     1],\n",
       "         [32099, 32098,     5,     3,     5,     3,     5,     3,     5,\n",
       "              3,     5,     3,     5,     3,     5,     3,     5,     3,\n",
       "              5,     3,     5,     3,     5,     3,     5,     3,     5,\n",
       "              3,     5,     3,     5,     3,     5,     3,     5,     3,\n",
       "              5,     3,     5,     3,     5,     3,     5,     3,     5,\n",
       "              3,     5,     3,     5,     3,     5,     3,     5,     3,\n",
       "              5,     3,     5,     3,     5,     3,     5,     3,     5,\n",
       "              3,     5,     3,     5,     3,     5,     3,     5,     3,\n",
       "              5,     3,     5,     3,     5,     3,     5,     3,     5,\n",
       "              3,     5,     3,     5,     3,     5,     3,     5,     3,\n",
       "              5,     3,     5,     3,     5,     3,     5,     3,     5,\n",
       "              3,     5,     3,     5,     3,     5,     3,     5,     3,\n",
       "              5,     3,     5,     3,     5,     3,  1562,  1562,  1562,\n",
       "           1562,  1562,  1562,  1562,  1562,  1562,  1562,  1562,  1562,\n",
       "           1562,  1562,  1562,  1562,  1562,  1562,  1562,  1562,  1562,\n",
       "           1562,  1562,  1562,  1562,  1562,  1562,  1562,  1562,  1562,\n",
       "           1562,  1562,     3,     5,     3,     5,     3,     5,     3,\n",
       "              5,     3,     5,     3,     5,     3,     5,     3,     5,\n",
       "              3,     5,     3,     5,     3,     5,     3,     5,     3,\n",
       "              5,     3,     5,     3,     5,     3,     5,     3,     5,\n",
       "              3,     5,     3,     5,     3,     5,     3,     5,     3,\n",
       "              5,     3,     5,     3,     5,     3,     5,     3,     5,\n",
       "              3,     5,     3,     1],\n",
       "         [32099, 32098,     5,     3,     5,     3,     5,     3,     5,\n",
       "              3,     5,     3,     5,     3,     5,     3,     5,     3,\n",
       "              5,     3,     5,     3,     5,     3,     5,     3,     5,\n",
       "              3,     5,     3,     5,     3,     5,     3,     5,     3,\n",
       "              5,     3,     5,     3,     5,     3,     5,     3,     5,\n",
       "              3,     5,     3,     5,     3,     5,     3,     5,     3,\n",
       "              5,     3,     5,     3,     5,     3,     5,     3,     5,\n",
       "              3,     5,     3,     5,     3,     5,     3,     5,     3,\n",
       "              5,     3,     5,     3,     5,     3,     5,     3,     5,\n",
       "              3,     5,     3,     5,     3,     5,     3,     5,     3,\n",
       "              5,     3,     5,     3,     5,     3,     5,     3,     5,\n",
       "              3,     5,     3,     5,     3,     5,     3,     5,     3,\n",
       "              5,     3,     5,     3,     5,     3,  1562,  1562,  1562,\n",
       "           1562,  1562,  1562,  1562,  1562,  1562,  1562,  1562,  1562,\n",
       "           1562,  1562,  1562,  1562,  1562,  1562,  1562,  1562,  1562,\n",
       "           1562,  1562,  1562,  1562,  1562,  1562,  1562,  1562,  1562,\n",
       "           1562,     3,     5,     3,     5,     3,     5,     3,     5,\n",
       "              3,     5,     3,     5,     3,     5,     3,     5,     3,\n",
       "              5,     3,     5,     3,     5,     3,     5,     3,     5,\n",
       "              3,     5,     3,     5,     3,     5,     3,     5,     3,\n",
       "              5,     3,     5,     3,     5,     3,     5,     3,     5,\n",
       "              3,     5,     3,     5,     3,     5,     3,     5,     3,\n",
       "              5,     3,     5,     1],\n",
       "         [32099, 32098,     5,     3,     5,     3,     5,     3,     5,\n",
       "              3,     5,     3,     5,     3,     5,     3,     5,     3,\n",
       "              5,     3,     5,     3,     5,     3,     5,     3,     5,\n",
       "              3,     5,     3,     5,     3,     5,     3,     5,     3,\n",
       "              5,     3,     5,     3,     5,     3,     5,     3,     5,\n",
       "              3,     5,     3,     5,     3,     5,     3,     5,     3,\n",
       "              5,     3,     5,     3,     5,     3,     5,     3,     5,\n",
       "              3,     5,     3,     5,     3,     5,     3,     5,     3,\n",
       "              5,     3,     5,     3,     5,     3,     5,     3,     5,\n",
       "              3,     5,     3,     5,     3,     5,     3,     5,     3,\n",
       "              5,     3,     5,     3,     5,     3,     5,     3,     5,\n",
       "              3,     5,     3,     5,     3,     5,     3,     5,     3,\n",
       "              5,     3,     5,     3,     5,     3,  1562,  1562,  1562,\n",
       "           1562,  1562,  1562,  1562,  1562,  1562,  1562,  1562,  1562,\n",
       "           1562,  1562,  1562,  1562,  1562,  1562,  1562,  1562,  1562,\n",
       "           1562,  1562,  1562,  1562,  1562,  1562,  1562,  1562,  1562,\n",
       "           1562,  1562,  1562,  1562,     3,     5,     3,     5,     3,\n",
       "              5,     3,     5,     3,     5,     3,     5,     3,     5,\n",
       "              3,     5,     3,     5,     3,     5,     3,     5,     3,\n",
       "              5,     3,     5,     3,     5,     3,     5,     3,     5,\n",
       "              3,     5,     3,     5,     3,     5,     3,     5,     3,\n",
       "              5,     3,     5,     3,     5,     3,     5,     3,     5,\n",
       "              3,     5,     3,     1]]], dtype=int32),\n",
       " array([[-0.03424922, -0.04603119, -0.06039   , -0.06524201]]),\n",
       " array([[202, 202, 202, 202]], dtype=int32))"
      ]
     },
     "execution_count": 9,
     "metadata": {},
     "output_type": "execute_result"
    }
   ],
   "source": [
    "res"
   ]
  },
  {
   "cell_type": "code",
   "execution_count": null,
   "metadata": {},
   "outputs": [],
   "source": []
  }
 ],
 "metadata": {
  "kernelspec": {
   "display_name": "Python 3",
   "language": "python",
   "name": "python3"
  },
  "language_info": {
   "codemirror_mode": {
    "name": "ipython",
    "version": 3
   },
   "file_extension": ".py",
   "mimetype": "text/x-python",
   "name": "python",
   "nbconvert_exporter": "python",
   "pygments_lexer": "ipython3",
   "version": "3.6.9"
  }
 },
 "nbformat": 4,
 "nbformat_minor": 2
}
