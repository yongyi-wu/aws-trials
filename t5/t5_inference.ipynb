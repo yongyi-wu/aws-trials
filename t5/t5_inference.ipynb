{
 "cells": [
  {
   "cell_type": "code",
   "execution_count": 1,
   "metadata": {},
   "outputs": [],
   "source": [
    "import warnings\n",
    "warnings.filterwarnings('ignore')\n",
    "import random\n",
    "\n",
    "import numpy as _np\n",
    "import tensorflow as tf\n",
    "from mxnet import np, npx\n",
    "from gluonnlp.data.batchify import Pad\n",
    "from gluonnlp.models import get_backbone\n",
    "from gluonnlp.models.t5 import T5Seq2seq, mask_to_sentinel\n",
    "from gluonnlp.sequence_sampler import BeamSearchSampler\n",
    "\n",
    "npx.set_np()\n",
    "np.set_printoptions(threshold=np.inf)"
   ]
  },
  {
   "cell_type": "code",
   "execution_count": 2,
   "metadata": {},
   "outputs": [],
   "source": [
    "T5Model, cfg, tokenizer, local_params_path, _ = get_backbone('google_t5_base')"
   ]
  },
  {
   "cell_type": "code",
   "execution_count": 3,
   "metadata": {},
   "outputs": [],
   "source": [
    "backbone = T5Model.from_cfg(cfg)\n",
    "backbone.load_parameters(local_params_path)\n",
    "t5_nmt = T5Seq2seq(backbone)\n",
    "t5_nmt.hybridize()\n",
    "t5_searcher = BeamSearchSampler(4, t5_nmt, eos_id=1, vocab_size=32128)"
   ]
  },
  {
   "cell_type": "code",
   "execution_count": 4,
   "metadata": {},
   "outputs": [],
   "source": [
    "batcher = Pad(val=0, dtype=np.int32)"
   ]
  },
  {
   "cell_type": "code",
   "execution_count": null,
   "metadata": {},
   "outputs": [],
   "source": []
  },
  {
   "cell_type": "code",
   "execution_count": 5,
   "metadata": {},
   "outputs": [
    {
     "name": "stdout",
     "output_type": "stream",
     "text": [
      "[21, 16, 43]\n"
     ]
    }
   ],
   "source": [
    "text = [\n",
    "    'Let us realize the arc of the moral universe is long, but it bends toward justice . ', \n",
    "    'The road to success and the road to failure are almost exactly the same . ', \n",
    "    'Four score and seven years ago our fathers brought forth , upon this continent , a new nation , conceived in Liberty , and dedicated to the proposition that all men are created equal .' \n",
    "]\n",
    "tokens = tokenizer.encode(text, int)\n",
    "print([len(tok) for tok in tokens])"
   ]
  },
  {
   "cell_type": "code",
   "execution_count": 6,
   "metadata": {},
   "outputs": [],
   "source": [
    "mask1 = [1 if i in [6, 7, 8] else 0 for i in range(21)]\n",
    "mask2 = [1 if i in [9, 10] else 0 for i in range(16)]\n",
    "mask3 = [1 if i in [7, 8, 9, 23, 24, 35, 36, 37] else 0 for i in range(43)]"
   ]
  },
  {
   "cell_type": "code",
   "execution_count": 7,
   "metadata": {},
   "outputs": [],
   "source": [
    "masked_tokens, _ = mask_to_sentinel(tokens, [mask1, mask2, mask3], len(tokenizer.vocab))"
   ]
  },
  {
   "cell_type": "code",
   "execution_count": 8,
   "metadata": {},
   "outputs": [],
   "source": [
    "enc_valid_length = np.array([len(tok) for tok in masked_tokens], dtype=np.int32)\n",
    "enc_tokens = batcher(masked_tokens)"
   ]
  },
  {
   "cell_type": "code",
   "execution_count": 9,
   "metadata": {},
   "outputs": [],
   "source": [
    "states = t5_nmt.init_states(enc_tokens, enc_valid_length)"
   ]
  },
  {
   "cell_type": "code",
   "execution_count": 10,
   "metadata": {},
   "outputs": [
    {
     "data": {
      "text/plain": [
       "(array([[[    0,     3,     5,    37,     3,  4667,    13,     8,     3,\n",
       "           4667,    13,     8,     3,  4667,    13,     8,     3,  4667,\n",
       "             13,     8,     3,  4667,    13,     8,     3,  4667,    13,\n",
       "              8,     3,  4667,    13,     8,     3,  4667,    13,     8,\n",
       "              3,  4667,    13,     8,     3,  4667,    13,     8,     3,\n",
       "           4667,    13,     8,     3,  4667,    13,     8,     3,  4667,\n",
       "             13,     8,     3,  4667,    13,     8,     3,  4667,    13,\n",
       "              8,     3,  4667,    13,     8,     3,  4667,    13,     8,\n",
       "              3,  4667,    13,     8,     3,  4667,    13,     8,     3,\n",
       "           4667,    13,     8,  6923,     3,     5,    37,  6923,     3,\n",
       "              5,    37,  6923,     3,     5,  1563,   178,  3384,     8,\n",
       "              3,  4667,    13,     8,  6923,     3,     5,    37,  6923,\n",
       "              8,  6923,     8,  6923,     8,  6923,     1],\n",
       "         [    0,     3,     5,    37,     3,  4667,    13,     8,     3,\n",
       "           4667,    13,     8,     3,  4667,    13,     8,     3,  4667,\n",
       "             13,     8,     3,  4667,    13,     8,     3,  4667,    13,\n",
       "              8,     3,  4667,    13,     8,     3,  4667,    13,     8,\n",
       "              3,  4667,    13,     8,     3,  4667,    13,     8,     3,\n",
       "           4667,    13,     8,     3,  4667,    13,     8,     3,  4667,\n",
       "             13,     8,     3,  4667,    13,     8,     3,  4667,    13,\n",
       "              8,     3,  4667,    13,     8,     3,  4667,    13,     8,\n",
       "              3,  4667,    13,     8,     3,  4667,    13,     8,  6923,\n",
       "              3,     5,    37,  6923,     3,     5,    37,  6923,     3,\n",
       "              5,  1563,   178,  3384,     8,     3,  4667,    13,     8,\n",
       "           6923,     3,     5,    37,  6923,     3,     5,    37,  6923,\n",
       "              8,  6923,  6923,     8,  6923,  6923,     1],\n",
       "         [    0,     3,     5,    37,     3,  4667,    13,     8,     3,\n",
       "           4667,    13,     8,     3,  4667,    13,     8,     3,  4667,\n",
       "             13,     8,     3,  4667,    13,     8,     3,  4667,    13,\n",
       "              8,     3,  4667,    13,     8,     3,  4667,    13,     8,\n",
       "              3,  4667,    13,     8,     3,  4667,    13,     8,     3,\n",
       "           4667,    13,     8,     3,  4667,    13,     8,     3,  4667,\n",
       "             13,     8,     3,  4667,    13,     8,     3,  4667,    13,\n",
       "              8,     3,  4667,    13,     8,     3,  4667,    13,     8,\n",
       "              3,  4667,    13,     8,  6923,     3,     5,    37,  6923,\n",
       "              3,     5,  1563,   178,  3384,     8,     3,  4667,    13,\n",
       "              8,  6923,     3,     5,    37,  6923,     3,     5,  1563,\n",
       "            178,  3384,     8,     3,  4667,    13,     8,  6923,     3,\n",
       "              5,    37,  6923,     8,  6923,  6923,     1],\n",
       "         [    0,     3,     5,    37,     3,  4667,    13,     8,     3,\n",
       "           4667,    13,     8,     3,  4667,    13,     8,     3,  4667,\n",
       "             13,     8,     3,  4667,    13,     8,     3,  4667,    13,\n",
       "              8,     3,  4667,    13,     8,     3,  4667,    13,     8,\n",
       "              3,  4667,    13,     8,     3,  4667,    13,     8,     3,\n",
       "           4667,    13,     8,     3,  4667,    13,     8,     3,  4667,\n",
       "             13,     8,     3,  4667,    13,     8,     3,  4667,    13,\n",
       "              8,     3,  4667,    13,     8,     3,  4667,    13,     8,\n",
       "              3,  4667,    13,     8,     3,  4667,    13,     8,     3,\n",
       "           4667,    13,     8,     3,  4667,    13,     8,  6923,     3,\n",
       "              5,    37,  6923,     3,     5,    37,  6923,     3,     5,\n",
       "           1563,   178,  3384,     8,     3,  4667,    13,     8,  6923,\n",
       "              3,     5,    37,  6923,     8,  6923,     1]],\n",
       " \n",
       "        [[    0, 32099,    33, 32098,    33, 32097,     8,   337,     3,\n",
       "              5,     3,     5,     3,     5,     3,     5,     3,     5,\n",
       "              3,     5,     3,     5,     3,     5,     3,     5,     3,\n",
       "              5,     3,     5,     3,     5,     3,     5,     3,     5,\n",
       "              3,     5,     3,     5,     3,     5,     3,     5,     3,\n",
       "              5,     3,     5,     3,     5,     3,     5,     3,     5,\n",
       "              3,     5,     3,     5,     3,     5,     3,     5,     3,\n",
       "              5,     3,     5,     3,     5,     3,     5,     3,     5,\n",
       "              3,     5,     3,     5,     3,     5,     3,     5,     3,\n",
       "              5,     3,     5,     3,     5,     3,     5,     3,     5,\n",
       "              3,     5,     3,     5,     3,     5,     3,     5,     3,\n",
       "              5,     3,     5,     3,     5,     3,     5,     3,     5,\n",
       "              3,     5,     3,     5,     3,     5,     1],\n",
       "         [    0,     3,     5,    37,  1373,    12,  1269,    33,     8,\n",
       "            337,     3,     5,     3,     5,     3,     5,     3,     5,\n",
       "              3,     5,     3,     5,     3,     5,     3,     5,     3,\n",
       "              5,     3,     5,     3,     5,     3,     5,     3,     5,\n",
       "              3,     5,     3,     5,     3,     5,     3,     5,     3,\n",
       "              5,     3,     5,     3,     5,     3,     5,     3,     5,\n",
       "              3,     5,     3,     5,     3,     5,     3,     5,     3,\n",
       "              5,     3,     5,     3,     5,     3,     5,     3,     5,\n",
       "              3,     5,     3,     5,     3,     5,     3,     5,     3,\n",
       "              5,     3,     5,     3,     5,     3,     5,     3,     5,\n",
       "              3,     5,     3,     5,     3,     5,     3,     5,     3,\n",
       "              5,     3,     5,     3,     5,     3,     5,     3,     5,\n",
       "              3,     5,     3,     5,     3,     5,     1],\n",
       "         [    0,     3,     5,    37,  1373,    12,  3338,    33,     8,\n",
       "            337,     3,     5,     3,     5,     3,     5,     3,     5,\n",
       "              3,     5,     3,     5,     3,     5,     3,     5,     3,\n",
       "              5,     3,     5,     3,     5,     3,     5,     3,     5,\n",
       "              3,     5,     3,     5,     3,     5,     3,     5,     3,\n",
       "              5,     3,     5,     3,     5,     3,     5,     3,     5,\n",
       "              3,     5,     3,     5,     3,     5,     3,     5,     3,\n",
       "              5,     3,     5,     3,     5,     3,     5,     3,     5,\n",
       "              3,     5,     3,     5,     3,     5,     3,     5,     3,\n",
       "              5,     3,     5,     3,     5,     3,     5,     3,     5,\n",
       "              3,     5,     3,     5,     3,     5,     3,     5,     3,\n",
       "              5,     3,     5,     3,     5,     3,     5,     3,     5,\n",
       "              3,     5,     3,     5,     3,     5,     1],\n",
       "         [    0, 32099,    33, 32098,    33, 32097,     8,   337,     3,\n",
       "              5,     3,     5,     3,     5,     3,     5, 32096,     3,\n",
       "              5,     3,     5,     3,     5,     3,     5,     3,     5,\n",
       "              3,     5,     3,     5,     3,     5,     3,     5,     3,\n",
       "              5,     3,     5,     3,     5,     3,     5,     3,     5,\n",
       "              3,     5,     3,     5,     3,     5,     3,     5,     3,\n",
       "              5,     3,     5,     3,     5,     3,     5,     3,     5,\n",
       "              3,     5,     3,     5,     3,     5,     3,     5,     3,\n",
       "              5,     3,     5,     3,     5,     3,     5,     3,     5,\n",
       "              3,     5,     3,     5,     3,     5,     3,     5,     3,\n",
       "              5,     3,     5,     3,     5,     3,     5,     3,     5,\n",
       "              3,     5,     3,     5,     3,     5,     3,     5,     3,\n",
       "              5,     3,     5,     3,     5, 32073,     1]],\n",
       " \n",
       "        [[    0, 32099,     6,     3, 32098,    24,    66, 32097,  2982,\n",
       "              3,     6, 32096,     6,     3, 32095,    24,    66, 32094,\n",
       "              7,     3,     6,    11, 32093,     7,     3,     6,    11,\n",
       "          32092,     6,     3, 32091,     6,     3, 32090,    24,    66,\n",
       "          32089,     6,     3, 32088,  2982,     3,     6, 32087,     3,\n",
       "              6,    24,    62, 32086,  2982,     3,     6,     3,     6,\n",
       "            356, 32085,  2982,     3,     6, 32084,     6,     3, 32083,\n",
       "              6,     3, 32082,    24,    66, 32081,  2982,     3,     6,\n",
       "          32080,     6, 32079,     6,     3, 32078,    24,    66, 32077,\n",
       "           2982,     3,     6,     3,     6,   356, 32076,     7,     3,\n",
       "              6, 32075,     7,     3,     6,     3, 32074,     3,     6,\n",
       "             11,     3,  2544,   151, 32073,     7,     3,     6, 32072,\n",
       "             24,    66,  9352,     3,     6,    66,     1],\n",
       "         [    0, 32099,     6,     3, 32098,    24,    66, 32097,  2982,\n",
       "              3,     6, 32096,     6,     3, 32095,    24,    66, 32094,\n",
       "              7,     3,     6,    11, 32093,     7,     3,     6,    11,\n",
       "          32092,     6,     3, 32091,     6,     3, 32090,    24,    66,\n",
       "          32089,     6,     3, 32088,  2982,     3,     6, 32087,     3,\n",
       "              6,    24,    62, 32086,  2982,     3,     6,    11, 32085,\n",
       "           2982,     3,     6,    11, 32084,     6,     3, 32083,     6,\n",
       "              3, 32082,    24,    66, 32081,  2982,     3,     6,    11,\n",
       "          32080,     6, 32079,     6,     3, 32078,    24,    66, 32077,\n",
       "           2982,     3,     6,    11, 32076,     7,     3,     6, 32075,\n",
       "              7,     3,     6,     3, 32074,     3,     6,    11,     3,\n",
       "           2544,   151, 32073,     7,     3,     6, 32072,    24,    66,\n",
       "           9352,     3,     6,    11,    66,  9352,     1],\n",
       "         [    0, 32099,     6,     3, 32098,    24,    66, 32097,  2982,\n",
       "              3,     6, 32096,     6,     3, 32095,    24,    66, 32094,\n",
       "              7,     3,     6,    11, 32093,     7,     3,     6,    11,\n",
       "          32092,     6,     3, 32091,     6,     3, 32090,    24,    66,\n",
       "          32089,     6,     3, 32088,  2982,     3,     6, 32087,     3,\n",
       "              6,    24,    62, 32086,  2982,     3,     6, 32085,  2982,\n",
       "              3,     6, 32084,     6,     3, 32083,     6,     3, 32082,\n",
       "             24,    66, 32081,  2982,     3,     6, 32080,     6, 32079,\n",
       "              6,     3, 32078,    24,    66, 32077,  2982,     3,     6,\n",
       "              3,     6,   356, 32076,     7,     3,     6, 32075,     7,\n",
       "              3,     6,     3, 32074,     3,     6,    11,     3,  2544,\n",
       "            151, 32073,     7,     3,     6, 32072,    24,    66,  9352,\n",
       "              3,     6,    66,  9352,     3,     6,     1],\n",
       "         [    0, 32099,     6,     3, 32098,    24,    66, 32097,  2982,\n",
       "              3,     6, 32096,     6,     3, 32095,    24,    66, 32094,\n",
       "              7,     3,     6,    11, 32093,     7,     3,     6, 32092,\n",
       "              6,     3, 32091,     6,     3, 32090,    24,    66, 32089,\n",
       "              6,     3, 32088,  2982,     3,     6, 32087,     3,     6,\n",
       "             24,    62, 32086,  2982,     3,     6,     3,     6,   356,\n",
       "          32085,  2982,     3,     6, 32084,     6,     3, 32083,     6,\n",
       "              3, 32082,    24,    66, 32081,  2982,     3,     6, 32080,\n",
       "              6, 32079,     6,     3, 32078,    24,    66, 32077,  2982,\n",
       "              3,     6,     3,     6,   356, 32076,     7,     3,     6,\n",
       "          32075,     7,     3,     6,     3, 32074,     3,     6,    11,\n",
       "              3,  2544,   151, 32073,     7,     3,     6, 32072,    24,\n",
       "             66,  9352,     3,     6,    66,  9352,     1]]], dtype=int32),\n",
       " array([[-6.7365289e-02, -1.0571079e-01, -1.1061948e-01, -1.3961348e-01],\n",
       "        [ 7.7235636e-06, -5.8534700e-01, -7.0556104e-01, -9.5202166e-01],\n",
       "        [-7.2294965e-02, -1.1280669e-01, -1.1282194e-01, -1.1557640e-01]]),\n",
       " array([[115, 115, 115, 115],\n",
       "        [115, 115, 115, 115],\n",
       "        [115, 115, 115, 115]], dtype=int32))"
      ]
     },
     "execution_count": 10,
     "metadata": {},
     "output_type": "execute_result"
    }
   ],
   "source": [
    "res = t5_searcher(np.zeros_like(enc_valid_length), states, enc_valid_length)\n",
    "res"
   ]
  },
  {
   "cell_type": "code",
   "execution_count": 11,
   "metadata": {},
   "outputs": [
    {
     "name": "stdout",
     "output_type": "stream",
     "text": [
      "#### ANOTHER SAMPLE ###\n",
      ". The arc of the arc of the arc of the arc of\n",
      "\n",
      ". The arc of the arc of the arc of the arc of\n",
      "\n",
      ". The arc of the arc of the arc of the arc of\n",
      "\n",
      ". The arc of the arc of the arc of the arc of\n",
      "\n",
      "#### ANOTHER SAMPLE ###\n",
      "tufted aretufted aretufted the same . . . \n",
      "\n",
      ". The road to success are the same . . \n",
      "\n",
      ". The road to failure are the same . . \n",
      "\n",
      "tufted aretufted aretufted the same . . . \n",
      "\n",
      "#### ANOTHER SAMPLE ###\n",
      "tufted, tufted that alltufted nation ,tufted, tufted that alltufteds , andtufteds , andtufted, tufted, tufted that alltufted,\n",
      "\n",
      "tufted, tufted that alltufted nation ,tufted, tufted that alltufteds , andtufteds , andtufted, tufted, tufted that alltufted,\n",
      "\n",
      "tufted, tufted that alltufted nation ,tufted, tufted that alltufteds , andtufteds , andtufted, tufted, tufted that alltufted,\n",
      "\n",
      "tufted, tufted that alltufted nation ,tufted, tufted that alltufteds , andtufteds ,tufted, tufted, tufted that alltufted, \n",
      "\n"
     ]
    }
   ],
   "source": [
    "for batch in range(enc_tokens.shape[0]): \n",
    "    print('#### ANOTHER SAMPLE ###')\n",
    "    for i in range(4): \n",
    "        l = res[0][batch, i, :enc_valid_length[batch].item()]\n",
    "        l = np.clip(l, 0, 31099).tolist() # TODO(yongyi-wu): handle out-of-range extra tokens\n",
    "        print(tokenizer.decode(l), end='\\n\\n')"
   ]
  },
  {
   "cell_type": "code",
   "execution_count": null,
   "metadata": {},
   "outputs": [],
   "source": []
  }
 ],
 "metadata": {
  "kernelspec": {
   "display_name": "Python 3",
   "language": "python",
   "name": "python3"
  },
  "language_info": {
   "codemirror_mode": {
    "name": "ipython",
    "version": 3
   },
   "file_extension": ".py",
   "mimetype": "text/x-python",
   "name": "python",
   "nbconvert_exporter": "python",
   "pygments_lexer": "ipython3",
   "version": "3.6.9"
  }
 },
 "nbformat": 4,
 "nbformat_minor": 2
}
